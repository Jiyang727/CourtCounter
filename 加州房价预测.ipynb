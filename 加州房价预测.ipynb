{
  "nbformat": 4,
  "nbformat_minor": 0,
  "metadata": {
    "colab": {
      "name": "加州房价预测.ipynb",
      "provenance": [],
      "authorship_tag": "ABX9TyNQEZ7g3n7Jfyr81geyb8JN",
      "include_colab_link": true
    },
    "kernelspec": {
      "name": "python3",
      "display_name": "Python 3"
    }
  },
  "cells": [
    {
      "cell_type": "markdown",
      "metadata": {
        "id": "view-in-github",
        "colab_type": "text"
      },
      "source": [
        "<a href=\"https://colab.research.google.com/github/Jiyang727/CourtCounter/blob/master/%E5%8A%A0%E5%B7%9E%E6%88%BF%E4%BB%B7%E9%A2%84%E6%B5%8B.ipynb\" target=\"_parent\"><img src=\"https://colab.research.google.com/assets/colab-badge.svg\" alt=\"Open In Colab\"/></a>"
      ]
    },
    {
      "cell_type": "code",
      "metadata": {
        "id": "FhefNVVAyxkP"
      },
      "source": [
        "import pandas as pd\n",
        "df_housing = pd.read_csv(\"https://raw.githubusercontent.com/huangjia2019/house/master/house.csv\") \n",
        "\n",
        "X = df_housing.drop(\"median_house_value\",axis = 1)\n",
        "y = df_housing.median_house_value\n",
        "from sklearn.model_selection import train_test_split\n",
        "X_train, X_test, y_train, y_test = train_test_split(X, y, test_size=0.2, random_state=0)\n",
        "from sklearn.linear_model import LinearRegression\n",
        "model = LinearRegression()\n",
        "model.fit(X_train, y_train)\n",
        "\n",
        "y_pred = model.predict(X_test)\n",
        "print ('房价的真值(测试集)', y_test)\n",
        "print ('预测的房价(测试集)', y_pred)\n",
        "print (\"给预测评分：\", model.score(X_test, y_test))\n",
        "\n",
        "import matplotlib.pyplot as plt #导入matplotlib画图库\n",
        "#用散点图显示家庭收入中位数和房价中位数的分布\n",
        "plt.scatter(X_test.median_income, y_test,  color='brown')\n",
        "#画出回归函数(从特征到预测标签)\n",
        "plt.plot(X_test.median_income, y_pred, color='green', linewidth=1)\n",
        "plt.xlabel('Median Income') #X轴-家庭收入中位数\n",
        "plt.ylabel('Median House Value') #Y轴-房价中位数\n",
        "plt.show() #显示房价分布和机器习得的函数图形"
      ],
      "execution_count": null,
      "outputs": []
    }
  ]
}